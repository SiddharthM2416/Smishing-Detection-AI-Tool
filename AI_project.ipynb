{
 "cells": [
  {
   "cell_type": "code",
   "execution_count": null,
   "id": "18300ad7-1209-457c-bdba-1d3e25c1ba65",
   "metadata": {},
   "outputs": [
    {
     "ename": "",
     "evalue": "",
     "output_type": "error",
     "traceback": [
      "\u001b[1;31mRunning cells with 'Python 3.11.7' requires the ipykernel package.\n",
      "\u001b[1;31m<a href='command:jupyter.createPythonEnvAndSelectController'>Create a Python Environment</a> with the required packages."
     ]
    }
   ],
   "source": [
    "import numpy as np\n",
    "import pandas as pd\n",
    "import matplotlib.pyplot as plt\n",
    "from sklearn.model_selection import train_test_split\n",
    "from sklearn.feature_extraction.text import TfidfVectorizer\n",
    "from sklearn.naive_bayes import GaussianNB,MultinomialNB,BernoulliNB\n",
    "from sklearn.metrics import accuracy_score,confusion_matrix,precision_score,classification_report\n",
    "from wordcloud import WordCloud\n",
    "wc=WordCloud(width=500,height=500,min_font_size=10,background_color='white')\n",
    "import pickle \n",
    "import seaborn as sns\n",
    "import nltk\n",
    "from nltk.corpus import stopwords\n",
    "nltk.download('punkt_tab')\n",
    "import string\n",
    "from nltk.stem.porter import PorterStemmer\n",
    "ps=PorterStemmer()\n",
    "vectorizer=TfidfVectorizer()"
   ]
  },
  {
   "cell_type": "code",
   "execution_count": null,
   "id": "347f1a6a-e793-42e0-afc3-10b03e14232f",
   "metadata": {},
   "outputs": [],
   "source": [
    "df=pd.read_csv('SMSSpamCollection.txt', sep='\\t', header=None, names=['label', 'message'])\n",
    "df.columns=['label', 'message']\n",
    "df.info()"
   ]
  },
  {
   "cell_type": "code",
   "execution_count": null,
   "id": "35dc6481-f3d2-4da7-844c-0d67dc09cd84",
   "metadata": {},
   "outputs": [],
   "source": [
    "df['label_num'] = df['label'].map({'ham': 0, 'spam': 1})\n",
    "df.sample(5)"
   ]
  },
  {
   "cell_type": "code",
   "execution_count": null,
   "id": "c08b4290-53fb-488b-a781-108116466c31",
   "metadata": {},
   "outputs": [],
   "source": [
    "df['label_num'].value_counts()"
   ]
  },
  {
   "cell_type": "code",
   "execution_count": null,
   "id": "ccf8efcc-827e-4848-9269-961d638147e1",
   "metadata": {},
   "outputs": [],
   "source": [
    "plt.pie(df['label_num'].value_counts(),labels=['ham','spam'],autopct=\"%0.2f\")\n",
    "plt.show()"
   ]
  },
  {
   "cell_type": "code",
   "execution_count": null,
   "id": "7c2d1f05-830c-471c-8453-482ec7636b48",
   "metadata": {},
   "outputs": [],
   "source": [
    "df['length']=df['message'].apply(len)\n",
    "df['num_words']=df['message'].apply(lambda x:len(nltk.word_tokenize(x)))\n",
    "df['num_sent']=df['message'].apply(lambda x:len(nltk.sent_tokenize(x)))"
   ]
  },
  {
   "cell_type": "code",
   "execution_count": null,
   "id": "25937c75-9998-431f-9783-f97028900c57",
   "metadata": {},
   "outputs": [],
   "source": [
    "df.head()"
   ]
  },
  {
   "cell_type": "code",
   "execution_count": null,
   "id": "ef21ec30-19c4-4ae5-9ced-f7d0751a0987",
   "metadata": {},
   "outputs": [],
   "source": [
    "df[['length','num_words','num_sent']].describe()"
   ]
  },
  {
   "cell_type": "code",
   "execution_count": null,
   "id": "acb15354-fbf3-497a-a7e4-10ff6962d79d",
   "metadata": {},
   "outputs": [],
   "source": [
    "df[df['label_num']==0][['length','num_words','num_sent']].describe()"
   ]
  },
  {
   "cell_type": "code",
   "execution_count": null,
   "id": "e9ebbe23-515b-40df-92e6-e70064968234",
   "metadata": {},
   "outputs": [],
   "source": [
    "df[df['label_num']==1][['length','num_words','num_sent']].describe()"
   ]
  },
  {
   "cell_type": "code",
   "execution_count": null,
   "id": "f3b5a537-c950-4f51-a9e0-3a282813b8f1",
   "metadata": {},
   "outputs": [],
   "source": [
    "sns.pairplot(df,hue='label_num')"
   ]
  },
  {
   "cell_type": "code",
   "execution_count": null,
   "id": "272e6e7d-9a41-4263-8d5a-813f8524106b",
   "metadata": {},
   "outputs": [],
   "source": [
    "df.select_dtypes(include=['number']).corr()"
   ]
  },
  {
   "cell_type": "code",
   "execution_count": null,
   "id": "6564990d-9225-4cc3-89cf-a3801ab88485",
   "metadata": {},
   "outputs": [],
   "source": [
    "def transform_sms(text):\n",
    "    text=text.lower()\n",
    "    text=nltk.word_tokenize(text)\n",
    "    y=[]\n",
    "    for i in text:\n",
    "        if i.isalnum():\n",
    "            y.append(i)\n",
    "    text=y[:]\n",
    "    y.clear()\n",
    "    for i in text:\n",
    "        if i not in stopwords.words('english') and i not in string.punctuation:\n",
    "            y.append(i)\n",
    "    text=y[:]\n",
    "    y.clear()\n",
    "    for i in text:\n",
    "        y.append(ps.stem(i))\n",
    "    return \" \".join(y)"
   ]
  },
  {
   "cell_type": "code",
   "execution_count": null,
   "id": "a45ea475-05f2-43fe-97a0-6abbcfe1c1ad",
   "metadata": {},
   "outputs": [],
   "source": [
    "df['transformed']=df['message'].apply(transform_sms)"
   ]
  },
  {
   "cell_type": "code",
   "execution_count": null,
   "id": "9dd35dff-8f1a-48e6-810e-fb0cf601d928",
   "metadata": {},
   "outputs": [],
   "source": [
    "df.head()"
   ]
  },
  {
   "cell_type": "code",
   "execution_count": null,
   "id": "1f04cbc9-a2d3-419c-a8ad-742ab856292c",
   "metadata": {},
   "outputs": [],
   "source": [
    "spam_wc=wc.generate(df[df['label_num']==1]['transformed'].str.cat(sep=\" \"))\n",
    "plt.figure(figsize=(15,6))\n",
    "plt.imshow(spam_wc)"
   ]
  },
  {
   "cell_type": "code",
   "execution_count": null,
   "id": "f57836c3-04c7-45f9-a8e4-8ef5b181e984",
   "metadata": {},
   "outputs": [],
   "source": [
    "ham_wc=wc.generate(df[df['label_num']==0]['transformed'].str.cat(sep=\" \"))\n",
    "plt.figure(figsize=(15,6))\n",
    "plt.imshow(ham_wc)"
   ]
  },
  {
   "cell_type": "code",
   "execution_count": null,
   "id": "2ebd9fb3-8611-4cc6-b08f-74b403297702",
   "metadata": {},
   "outputs": [],
   "source": [
    "X=df['message']\n",
    "y=df['label_num']\n",
    "X_train,X_test,y_train,y_test = train_test_split(X,y,test_size=0.2,random_state=2)"
   ]
  },
  {
   "cell_type": "code",
   "execution_count": null,
   "id": "ca50f328-a28e-4358-8523-3318cff9fa48",
   "metadata": {},
   "outputs": [],
   "source": [
    "vectorizer=TfidfVectorizer()\n",
    "X_train_vectorized=vectorizer.fit_transform(X_train)"
   ]
  },
  {
   "cell_type": "code",
   "execution_count": null,
   "id": "831731f3-a838-4881-b25e-9670556ba8be",
   "metadata": {},
   "outputs": [],
   "source": [
    "model=BernoulliNB()\n",
    "model.fit(X_train_vectorized, y_train)\n",
    "X_test_vectorized=vectorizer.transform(X_test)\n",
    "y_pred=model.predict(X_test_vectorized)\n",
    "print(confusion_matrix(y_test,y_pred))\n",
    "print(\"Classification Report:\\n\", classification_report(y_test, y_pred))"
   ]
  },
  {
   "cell_type": "code",
   "execution_count": null,
   "id": "3dbae0ec-dc2e-470f-a2d1-ad714abe843a",
   "metadata": {},
   "outputs": [],
   "source": [
    "model=MultinomialNB()\n",
    "model.fit(X_train_vectorized, y_train)\n",
    "X_test_vectorized=vectorizer.transform(X_test)\n",
    "y_pred=model.predict(X_test_vectorized)\n",
    "print(confusion_matrix(y_test,y_pred))\n",
    "print(\"Classification Report:\\n\", classification_report(y_test, y_pred))"
   ]
  },
  {
   "cell_type": "code",
   "execution_count": null,
   "id": "6fe4f0ce-b038-4236-9abd-48710c83ea89",
   "metadata": {},
   "outputs": [],
   "source": [
    "with open('vectorizer.pkl', 'wb') as vec_file:\n",
    "    pickle.dump(vectorizer, vec_file)\n",
    "with open('model.pkl', 'wb') as model_file:\n",
    "    pickle.dump(model, model_file)"
   ]
  },
  {
   "cell_type": "code",
   "execution_count": null,
   "id": "24bab4a2-1b33-4bcc-9760-9cd1023b2de6",
   "metadata": {},
   "outputs": [],
   "source": [
    "def predict_spam_ham(text_message):\n",
    "    with open('vectorizer.pkl', 'rb') as vec_file:\n",
    "        loaded_vectorizer = pickle.load(vec_file)\n",
    "    with open('model.pkl', 'rb') as model_file:\n",
    "        loaded_model = pickle.load(model_file)\n",
    "    input_vector = loaded_vectorizer.transform([text_message])  \n",
    "    prediction = loaded_model.predict(input_vector)[0] \n",
    "    return \"SPAM\" if prediction == 1 else \"HAM\""
   ]
  },
  {
   "cell_type": "code",
   "execution_count": null,
   "id": "6056d582-d929-4a4e-b387-99ab4a49d2d7",
   "metadata": {},
   "outputs": [],
   "source": [
    "while True:\n",
    "    user_input=input(\"Enter an SMS message (or type 'exit' to quit):\\n\")\n",
    "    if user_input.lower() == 'exit':\n",
    "        break\n",
    "    prediction = predict_spam_ham(user_input)\n",
    "    print(\"Prediction:\", prediction)"
   ]
  },
  {
   "cell_type": "code",
   "execution_count": null,
   "id": "ba090298-a1f1-4dc1-b736-bb42d3bcd9d5",
   "metadata": {},
   "outputs": [],
   "source": []
  }
 ],
 "metadata": {
  "kernelspec": {
   "display_name": "Python 3",
   "language": "python",
   "name": "python3"
  },
  "language_info": {
   "codemirror_mode": {
    "name": "ipython",
    "version": 3
   },
   "file_extension": ".py",
   "mimetype": "text/x-python",
   "name": "python",
   "nbconvert_exporter": "python",
   "pygments_lexer": "ipython3",
   "version": "3.11.7"
  }
 },
 "nbformat": 4,
 "nbformat_minor": 5
}
